{
 "cells": [
  {
   "cell_type": "markdown",
   "metadata": {},
   "source": [
    "# PUI 2017 HW 11-2\n",
    "## Yuwen Chang (ywc249)\n",
    "\n",
    "### Objective\n",
    "- Optimize k-means clustering"
   ]
  },
  {
   "cell_type": "code",
   "execution_count": 1,
   "metadata": {
    "ExecuteTime": {
     "end_time": "2017-12-07T09:28:24.518389",
     "start_time": "2017-12-07T09:28:23.289616"
    },
    "run_control": {
     "frozen": false,
     "read_only": false
    }
   },
   "outputs": [
    {
     "name": "stdout",
     "output_type": "stream",
     "text": [
      "Populating the interactive namespace from numpy and matplotlib\n"
     ]
    }
   ],
   "source": [
    "import time\n",
    "import numpy as np\n",
    "import pylab as pl\n",
    "from IPython.display import display, clear_output\n",
    "\n",
    "%pylab inline"
   ]
  },
  {
   "cell_type": "code",
   "execution_count": 2,
   "metadata": {
    "ExecuteTime": {
     "end_time": "2017-12-07T09:28:52.712437",
     "start_time": "2017-12-07T09:28:52.707765"
    },
    "collapsed": true,
    "run_control": {
     "frozen": false,
     "read_only": false
    }
   },
   "outputs": [],
   "source": [
    "np.random.seed(333)"
   ]
  },
  {
   "cell_type": "code",
   "execution_count": 3,
   "metadata": {
    "ExecuteTime": {
     "end_time": "2017-12-07T09:28:52.934772",
     "start_time": "2017-12-07T09:28:52.930841"
    },
    "run_control": {
     "frozen": false,
     "read_only": false
    }
   },
   "outputs": [
    {
     "data": {
      "text/plain": [
       "((2, 100), (2, 100))"
      ]
     },
     "execution_count": 3,
     "metadata": {},
     "output_type": "execute_result"
    }
   ],
   "source": [
    "random_1 = np.random.randn(2,100)\n",
    "random_2 = np.random.randn(2,100) + 2\n",
    "random_1.shape, random_2.shape"
   ]
  },
  {
   "cell_type": "code",
   "execution_count": 4,
   "metadata": {
    "ExecuteTime": {
     "end_time": "2017-12-07T09:28:53.942506",
     "start_time": "2017-12-07T09:28:53.691814"
    },
    "run_control": {
     "frozen": false,
     "read_only": false
    }
   },
   "outputs": [
    {
     "data": {
      "image/png": "[encoded data removed]",
      "text/plain": [
       "<matplotlib.figure.Figure at 0x115143208>"
      ]
     },
     "metadata": {},
     "output_type": "display_data"
    }
   ],
   "source": [
    "pl.plot(random_1[0], random_1[1], '.')\n",
    "pl.plot(random_2[0], random_2[1], '.')\n",
    "pl.xlabel('x')\n",
    "pl.ylabel('y');"
   ]
  },
  {
   "cell_type": "markdown",
   "metadata": {
    "ExecuteTime": {
     "end_time": "2017-12-07T09:28:54.251112",
     "start_time": "2017-12-07T09:28:54.248081"
    },
    "collapsed": true,
    "run_control": {
     "frozen": false,
     "read_only": false
    }
   },
   "source": [
    "# 1. Choose the number of clusters = 2"
   ]
  },
  {
   "cell_type": "code",
   "execution_count": 5,
   "metadata": {
    "ExecuteTime": {
     "end_time": "2017-12-07T09:28:54.766632",
     "start_time": "2017-12-07T09:28:54.761626"
    },
    "collapsed": true,
    "run_control": {
     "frozen": false,
     "read_only": false
    }
   },
   "outputs": [],
   "source": [
    "random_stack = np.hstack([random_1, random_2])"
   ]
  },
  {
   "cell_type": "markdown",
   "metadata": {},
   "source": [
    "# 2. Set a guess for the initial centers"
   ]
  },
  {
   "cell_type": "code",
   "execution_count": 6,
   "metadata": {
    "ExecuteTime": {
     "end_time": "2017-12-07T09:33:43.077041",
     "start_time": "2017-12-07T09:33:43.069516"
    },
    "collapsed": true,
    "run_control": {
     "frozen": false,
     "read_only": false
    }
   },
   "outputs": [],
   "source": [
    "# fix the centers to a poor initial guess\n",
    "centers = np.array([[0,-1], [0,-2]]) \n",
    "\n",
    "# a better initial guess would have been\n",
    "# minval, maxval = min(random_stack[0]), max(random_stack[0])\n",
    "# np.array((np.random.rand(4)   * (maxval - minval)) + minval).reshape(2,2)"
   ]
  },
  {
   "cell_type": "code",
   "execution_count": 7,
   "metadata": {
    "ExecuteTime": {
     "end_time": "2017-12-07T09:33:43.879955",
     "start_time": "2017-12-07T09:33:43.661410"
    },
    "run_control": {
     "frozen": false,
     "read_only": false
    }
   },
   "outputs": [
    {
     "data": {
      "image/png": "[encoded data removed]",
      "text/plain": [
       "<matplotlib.figure.Figure at 0x1185615f8>"
      ]
     },
     "metadata": {},
     "output_type": "display_data"
    }
   ],
   "source": [
    "pl.plot(random_1[0], random_1[1], '.')\n",
    "pl.plot(random_2[0], random_2[1], '.')\n",
    "pl.plot(centers[0,0], centers[0,1], '*', ms=10)\n",
    "pl.plot(centers[1,0], centers[1,1], '*', ms=10)\n",
    "pl.xlabel('x')\n",
    "pl.ylabel('y');"
   ]
  },
  {
   "cell_type": "markdown",
   "metadata": {
    "ExecuteTime": {
     "end_time": "2017-12-07T09:33:45.225547",
     "start_time": "2017-12-07T09:33:45.208931"
    },
    "run_control": {
     "frozen": false,
     "marked": false,
     "read_only": false
    }
   },
   "source": [
    "# 3. Check the closer center for each point"
   ]
  },
  {
   "cell_type": "code",
   "execution_count": 8,
   "metadata": {
    "ExecuteTime": {
     "end_time": "2017-12-07T09:33:44.481446",
     "start_time": "2017-12-07T09:33:44.473847"
    },
    "collapsed": true,
    "run_control": {
     "frozen": false,
     "read_only": false
    }
   },
   "outputs": [],
   "source": [
    "#define the distance metric - just Eucledian distance\n",
    "def distmetric(x, y, center):\n",
    "    distmetric = np.sqrt((x - center[0])**2 + (y - center[1])**2)\n",
    "    return distmetric"
   ]
  },
  {
   "cell_type": "code",
   "execution_count": 9,
   "metadata": {
    "ExecuteTime": {
     "end_time": "2017-12-07T09:33:45.225547",
     "start_time": "2017-12-07T09:33:45.208931"
    },
    "run_control": {
     "frozen": false,
     "marked": false,
     "read_only": false
    }
   },
   "outputs": [
    {
     "data": {
      "text/plain": [
       "array([ True,  True,  True,  True,  True,  True,  True,  True,  True,\n",
       "        True,  True,  True,  True,  True,  True,  True,  True,  True,\n",
       "        True,  True,  True,  True,  True,  True,  True, False,  True,\n",
       "        True,  True,  True, False,  True,  True,  True,  True,  True,\n",
       "        True, False,  True,  True,  True,  True,  True,  True,  True,\n",
       "        True,  True,  True,  True,  True,  True,  True,  True,  True,\n",
       "        True,  True,  True,  True,  True,  True,  True,  True,  True,\n",
       "        True,  True,  True,  True,  True,  True,  True,  True,  True,\n",
       "        True,  True,  True,  True,  True,  True,  True,  True,  True,\n",
       "        True,  True,  True,  True,  True,  True,  True,  True, False,\n",
       "        True,  True,  True,  True,  True,  True,  True,  True,  True,  True], dtype=bool)"
      ]
     },
     "execution_count": 9,
     "metadata": {},
     "output_type": "execute_result"
    }
   ],
   "source": [
    "cl1 = distmetric(random_1[0], random_1[1], centers[0]) < distmetric(random_1[0], random_1[1], centers[1])\n",
    "cl2 = distmetric(random_2[0], random_2[1], centers[0]) < distmetric(random_2[0], random_2[1], centers[1])\n",
    "\n",
    "cl1"
   ]
  },
  {
   "cell_type": "markdown",
   "metadata": {},
   "source": [
    "# 4. Calculate new centers"
   ]
  },
  {
   "cell_type": "code",
   "execution_count": 10,
   "metadata": {},
   "outputs": [
    {
     "name": "stdout",
     "output_type": "stream",
     "text": [
      "old center\n",
      " [[ 0 -1]\n",
      " [ 0 -2]] \n",
      "new center\n",
      " [[ 0.96972306  1.06522176]\n",
      " [ 1.02400655 -2.10176012]]\n"
     ]
    }
   ],
   "source": [
    "newc = np.array([np.hstack([random_1[:, cl1], random_2[:, cl2]]).mean(axis=1),\n",
    "                 np.hstack([random_1[:, ~cl1], random_2[:, ~cl2]]).mean(axis=1)])\n",
    "print(\"old center\\n\", centers,\n",
    "      \"\\nnew center\\n\", newc)"
   ]
  },
  {
   "cell_type": "markdown",
   "metadata": {},
   "source": [
    "# 5. Iterate 3 & 4 until convergence"
   ]
  },
  {
   "cell_type": "code",
   "execution_count": 11,
   "metadata": {},
   "outputs": [
    {
     "data": {
      "image/png": "[encoded data removed]",
      "text/plain": [
       "<matplotlib.figure.Figure at 0x1186f2668>"
      ]
     },
     "metadata": {},
     "output_type": "display_data"
    }
   ],
   "source": [
    "fig, ax = pl.subplots()\n",
    "\n",
    "# plot data with labels\n",
    "d1, = ax.plot(random_1[0], random_1[1], '.')\n",
    "d2, = ax.plot(random_2[0], random_2[1], '.')\n",
    "\n",
    "# plot centers\n",
    "c1, = ax.plot([],[], '*', markersize=12)\n",
    "c2, = ax.plot([],[], '*', markersize=12)\n",
    "\n",
    "ax.set_xlabel('x', fontsize=14)\n",
    "ax.set_ylabel('y', fontsize=14)\n",
    "pl.show()"
   ]
  },
  {
   "cell_type": "code",
   "execution_count": 12,
   "metadata": {},
   "outputs": [
    {
     "data": {
      "image/png": "[encoded data removed]",
      "text/plain": [
       "<matplotlib.figure.Figure at 0x1186f2668>"
      ]
     },
     "metadata": {},
     "output_type": "display_data"
    },
    {
     "name": "stdout",
     "output_type": "stream",
     "text": [
      "iteration: 8\n",
      "old center:\n",
      "[[ 2.01522567  1.93589473]\n",
      " [-0.09470755  0.04900058]]\n",
      "new center:\n",
      "[[ 2.01522567  1.93589473]\n",
      " [-0.09470755  0.04900058]]\n"
     ]
    }
   ],
   "source": [
    "# create iterate term\n",
    "att = 0\n",
    "\n",
    "# run the loop until center convergence or too many loops\n",
    "while((centers != newc).all()) and att < 100:\n",
    "    \n",
    "    # initialize data for first attempt\n",
    "    if att == 0:\n",
    "        c1.set_data(centers[0,0], centers[0,1])\n",
    "        c2.set_data(centers[1,0], centers[1,1])\n",
    "        display(fig)\n",
    "        print('attempt: %s'%att)\n",
    "        print('center: %s'%centers)\n",
    "\n",
    "    # plot data points\n",
    "    tmp1 = np.hstack([random_1[:, cl1], random_2[:, cl2]])\n",
    "    tmp2 = np.hstack([random_1[:, ~cl1], random_2[:, ~cl2]])\n",
    "    d1.set_data(tmp1[0], tmp1[1])\n",
    "    d2.set_data(tmp2[0], tmp2[1])    \n",
    "    \n",
    "    # assign new centers\n",
    "    centers = newc\n",
    "    cl1 = distmetric(random_1[0], random_1[1], centers[0]) < distmetric(random_1[0], random_1[1], centers[1])\n",
    "    cl2 = distmetric(random_2[0], random_2[1], centers[0]) < distmetric(random_2[0], random_2[1], centers[1])\n",
    "\n",
    "    # calculate new centers\n",
    "    newc = np.array([np.hstack([random_1[:, cl1], random_2[:, cl2]]).mean(axis=1), \n",
    "                     np.hstack([random_1[:, ~cl1], random_2[:, ~cl2]]).mean(axis=1)])\n",
    "\n",
    "    c1.set_data(centers[0,0], centers[0,1])\n",
    "    c2.set_data(centers[1,0], centers[1,1])\n",
    "\n",
    "    # plot animate subplot\n",
    "    time.sleep(1)\n",
    "    clear_output(wait=True)\n",
    "    display(fig)\n",
    "    \n",
    "    # iterate # of attempts\n",
    "    att += 1\n",
    "    \n",
    "    print('iteration: %s'%att)\n",
    "    print('old center:\\n%s'%centers)\n",
    "    print('new center:\\n%s'%newc)"
   ]
  },
  {
   "cell_type": "code",
   "execution_count": null,
   "metadata": {
    "collapsed": true
   },
   "outputs": [],
   "source": []
  }
 ],
 "metadata": {
  "kernelspec": {
   "display_name": "Python 3",
   "language": "python",
   "name": "python3"
  },
  "language_info": {
   "codemirror_mode": {
    "name": "ipython",
    "version": 3
   },
   "file_extension": ".py",
   "mimetype": "text/x-python",
   "name": "python",
   "nbconvert_exporter": "python",
   "pygments_lexer": "ipython3",
   "version": "3.6.1"
  },
  "toc": {
   "colors": {
    "hover_highlight": "#DAA520",
    "running_highlight": "#FF0000",
    "selected_highlight": "#FFD700"
   },
   "moveMenuLeft": true,
   "nav_menu": {
    "height": "11px",
    "width": "251px"
   },
   "navigate_menu": true,
   "number_sections": true,
   "sideBar": true,
   "threshold": 4,
   "toc_cell": false,
   "toc_section_display": "block",
   "toc_window_display": false
  }
 },
 "nbformat": 4,
 "nbformat_minor": 1
}
